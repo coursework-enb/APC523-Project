{
 "cells": [
  {
   "cell_type": "code",
   "execution_count": 1,
   "id": "3a169ed0-0acf-4c62-9b1e-42d860d39bc6",
   "metadata": {},
   "outputs": [],
   "source": [
    "import matplotlib.pyplot as plt\n",
    "import matplotlib\n",
    "\n",
    "matplotlib.rcParams.update({'font.size': 18})\n",
    "matplotlib.rcParams['lines.linewidth'] = 0.5\n",
    "matplotlib.rcParams['lines.markeredgewidth'] = 0.5\n",
    "matplotlib.rcParams['lines.markersize'] = 8 "
   ]
  },
  {
   "cell_type": "code",
   "execution_count": 2,
   "id": "3decf669-3d77-451e-94bb-f53a99084e99",
   "metadata": {},
   "outputs": [],
   "source": [
    "import numpy as np\n",
    "from numba import njit, prange"
   ]
  },
  {
   "cell_type": "code",
   "execution_count": 3,
   "id": "66ea4126-5788-42d1-aa6b-3e86a7639ef1",
   "metadata": {},
   "outputs": [],
   "source": [
    "from ns2d import FiniteDifferenceDiscretizer, EulerIntegrator"
   ]
  },
  {
   "cell_type": "code",
   "execution_count": null,
   "id": "03b63591-038c-4372-b81f-e84360718e35",
   "metadata": {},
   "outputs": [],
   "source": [
    "# Write the solve_poisson and update_velocity concrete functions in a MainSolver class"
   ]
  },
  {
   "cell_type": "code",
   "execution_count": null,
   "id": "1dae02e8-3700-4a67-b612-df4bb098f27f",
   "metadata": {},
   "outputs": [],
   "source": [
    "# nx, ny = 41, 41\n",
    "# dx, dy = 2.0 / (nx - 1), 2.0 / (ny - 1)\n",
    "# dt = 0.001\n",
    "# nu = 0.1\n",
    "# num_steps = 500\n",
    "\n",
    "# x = np.linspace(0, 2, nx)\n",
    "# y = np.linspace(0, 2, ny)\n",
    "# X, Y = np.meshgrid(x, y)\n",
    "\n",
    "# spatial_discretizer = FiniteDifferenceDiscretizer()\n",
    "# time_integrator = EulerIntegrator()\n",
    "# solver = MainSolver(nx=nx, ny=ny, dx=dx, dy=dy, dt=dt, nu=nu,\n",
    "#                     integrator=time_integrator, discrete_navier_stokes=spatial_discretizer)\n",
    "\n",
    "# solver.run_simulation(num_steps=num_steps, initialize=True)"
   ]
  },
  {
   "cell_type": "code",
   "execution_count": null,
   "id": "cc48e8db-29c1-4e1b-8425-fe8c1e6f78ef",
   "metadata": {},
   "outputs": [],
   "source": [
    "# plt.figure(figsize=(11, 7))\n",
    "# plt.contourf(X, Y, solver.p, alpha=0.5)\n",
    "# plt.colorbar(label='Pressure')\n",
    "# plt.contour(X, Y, solver.p, colors='black', linestyles='solid')\n",
    "# plt.quiver(X[::2, ::2], Y[::2, ::2], solver.u[::2, ::2], solver.v[::2, ::2], color='r')\n",
    "# plt.xlabel('X')\n",
    "# plt.ylabel('Y')\n",
    "# plt.tight_layout()\n",
    "# plt.show()"
   ]
  }
 ],
 "metadata": {
  "kernelspec": {
   "display_name": "Python 3 (ipykernel)",
   "language": "python",
   "name": "python3"
  },
  "language_info": {
   "codemirror_mode": {
    "name": "ipython",
    "version": 3
   },
   "file_extension": ".py",
   "mimetype": "text/x-python",
   "name": "python",
   "nbconvert_exporter": "python",
   "pygments_lexer": "ipython3",
   "version": "3.12.9"
  }
 },
 "nbformat": 4,
 "nbformat_minor": 5
}
