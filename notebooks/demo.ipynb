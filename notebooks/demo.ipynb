{
 "cells": [
  {
   "cell_type": "code",
   "execution_count": 1,
   "id": "3a169ed0-0acf-4c62-9b1e-42d860d39bc6",
   "metadata": {},
   "outputs": [],
   "source": [
    "import matplotlib.pyplot as plt\n",
    "import matplotlib\n",
    "\n",
    "matplotlib.rcParams.update({'font.size': 18})\n",
    "matplotlib.rcParams['lines.linewidth'] = 0.5\n",
    "matplotlib.rcParams['lines.markeredgewidth'] = 0.5\n",
    "matplotlib.rcParams['lines.markersize'] = 8 "
   ]
  },
  {
   "cell_type": "code",
   "execution_count": 2,
   "id": "3decf669-3d77-451e-94bb-f53a99084e99",
   "metadata": {},
   "outputs": [],
   "source": [
    "import numpy as np\n",
    "from numba import njit, prange, set_num_threads\n",
    "from itertools import product\n",
    "\n",
    "set_num_threads(15)"
   ]
  },
  {
   "cell_type": "code",
   "execution_count": 3,
   "id": "66ea4126-5788-42d1-aa6b-3e86a7639ef1",
   "metadata": {},
   "outputs": [],
   "source": [
    "from ns2d import (\n",
    "    EulerIntegrator,\n",
    "    FiniteDifferenceDiscretizer,\n",
    "    FiniteDifferenceUpwindDiscretizer,\n",
    "    FiniteVolumeDiscretizer,\n",
    "    GaussSeidelSolver,\n",
    "    JacobiSolver,\n",
    "    PredictorCorrectorIntegrator,\n",
    "    RK4Integrator,\n",
    "    SemiImplicitIntegrator\n",
    ")"
   ]
  },
  {
   "cell_type": "code",
   "execution_count": 4,
   "id": "1dae02e8-3700-4a67-b612-df4bb098f27f",
   "metadata": {},
   "outputs": [],
   "source": [
    "rhs_discretizers = [\n",
    "    FiniteDifferenceDiscretizer(),\n",
    "    FiniteDifferenceUpwindDiscretizer(),\n",
    "    FiniteVolumeDiscretizer()\n",
    "]\n",
    "predictors = [\n",
    "    EulerIntegrator(),\n",
    "    PredictorCorrectorIntegrator,\n",
    "    RK4Integrator\n",
    "]\n",
    "benchmarks = [\n",
    "    \"Taylor-Green Vortex\",\n",
    "    \"Lid-Driven Cavity\"\n",
    "]\n",
    "nu_values = [1e-3, 1e-5]\n",
    "all_combinations = list(product(rhs_discretizers, predictors))"
   ]
  },
  {
   "cell_type": "code",
   "execution_count": 5,
   "id": "28e41122-0ad3-4820-b2c9-10662416df0f",
   "metadata": {},
   "outputs": [],
   "source": [
    "nx, ny = 41, 41\n",
    "dx, dy = 2.0 / (nx - 1), 2.0 / (ny - 1)\n",
    "dt = 0.001\n",
    "nu = 1e-3\n",
    "num_steps = 500"
   ]
  },
  {
   "cell_type": "code",
   "execution_count": 6,
   "id": "cc466ce7-b423-462d-9e6a-1ff4ade8d1ed",
   "metadata": {},
   "outputs": [
    {
     "name": "stderr",
     "output_type": "stream",
     "text": [
      "Simulation Progress:   0%|                                                                                                                  | 0/10000 [00:00<?, ?steps/s]"
     ]
    },
    {
     "ename": "RuntimeError",
     "evalue": "Validation failed at step 0 with the following error(s):\nSolution is valid.\nwith current dt=0.0005 and CFL=0.01999736323579078",
     "output_type": "error",
     "traceback": [
      "\u001b[31m---------------------------------------------------------------------------\u001b[39m",
      "\u001b[31mRuntimeError\u001b[39m                              Traceback (most recent call last)",
      "\u001b[36mCell\u001b[39m\u001b[36m \u001b[39m\u001b[32mIn[6]\u001b[39m\u001b[32m, line 7\u001b[39m\n\u001b[32m      1\u001b[39m solver = JacobiSolver(\n\u001b[32m      2\u001b[39m     nx=nx, ny=ny, dx=dx, dy=dy, dt=dt, nu=nu,\n\u001b[32m      3\u001b[39m     integrator=SemiImplicitIntegrator(),\n\u001b[32m      4\u001b[39m     discrete_navier_stokes=FiniteDifferenceDiscretizer(),\n\u001b[32m      5\u001b[39m     fixed_dt=\u001b[38;5;28;01mFalse\u001b[39;00m\n\u001b[32m      6\u001b[39m )\n\u001b[32m----> \u001b[39m\u001b[32m7\u001b[39m time, cfl_values, error = \u001b[43msolver\u001b[49m\u001b[43m.\u001b[49m\u001b[43mintegrate\u001b[49m\u001b[43m(\u001b[49m\n\u001b[32m      8\u001b[39m \u001b[43m    \u001b[49m\u001b[43mnum_steps\u001b[49m\u001b[43m=\u001b[49m\u001b[32;43m10000\u001b[39;49m\u001b[43m,\u001b[49m\n\u001b[32m      9\u001b[39m \u001b[43m    \u001b[49m\u001b[43mend_time\u001b[49m\u001b[43m=\u001b[49m\u001b[38;5;28;43;01mNone\u001b[39;49;00m\u001b[43m,\u001b[49m\n\u001b[32m     10\u001b[39m \u001b[43m    \u001b[49m\u001b[43mbenchmark\u001b[49m\u001b[43m=\u001b[49m\u001b[33;43m\"\u001b[39;49m\u001b[33;43mTaylor-Green Vortex\u001b[39;49m\u001b[33;43m\"\u001b[39;49m\u001b[43m,\u001b[49m\n\u001b[32m     11\u001b[39m \u001b[43m    \u001b[49m\u001b[43mcfl_based\u001b[49m\u001b[43m=\u001b[49m\u001b[38;5;28;43;01mFalse\u001b[39;49;00m\u001b[43m,\u001b[49m\n\u001b[32m     12\u001b[39m \u001b[43m    \u001b[49m\u001b[43mcfl_adapt\u001b[49m\u001b[43m=\u001b[49m\u001b[38;5;28;43;01mFalse\u001b[39;49;00m\u001b[43m,\u001b[49m\n\u001b[32m     13\u001b[39m \u001b[43m)\u001b[49m\n\u001b[32m     14\u001b[39m vorticity = solver.compute_vorticity()\n\u001b[32m     15\u001b[39m \u001b[38;5;28mprint\u001b[39m(error)\n",
      "\u001b[36mFile \u001b[39m\u001b[32m~/ghorg/coursework-enb/APC523-Project/src/ns2d/core.py:409\u001b[39m, in \u001b[36mNavierStokesSolver2D.integrate\u001b[39m\u001b[34m(self, num_steps, end_time, failfast, benchmark, cfl_based, cfl_adapt)\u001b[39m\n\u001b[32m    407\u001b[39m     fail, message = \u001b[38;5;28mself\u001b[39m._check_current_sol()\n\u001b[32m    408\u001b[39m     \u001b[38;5;28;01mif\u001b[39;00m fail:\n\u001b[32m--> \u001b[39m\u001b[32m409\u001b[39m         \u001b[38;5;28;01mraise\u001b[39;00m \u001b[38;5;167;01mRuntimeError\u001b[39;00m(\n\u001b[32m    410\u001b[39m             \u001b[33mf\u001b[39m\u001b[33m\"\u001b[39m\u001b[33mValidation failed at step \u001b[39m\u001b[38;5;132;01m{\u001b[39;00mstep\u001b[38;5;132;01m}\u001b[39;00m\u001b[33m with the following error(s):\u001b[39m\u001b[38;5;130;01m\\n\u001b[39;00m\u001b[33m\"\u001b[39m\n\u001b[32m    411\u001b[39m             + message\n\u001b[32m    412\u001b[39m             + \u001b[33mf\u001b[39m\u001b[33m\"\u001b[39m\u001b[38;5;130;01m\\n\u001b[39;00m\u001b[33mwith current dt=\u001b[39m\u001b[38;5;132;01m{\u001b[39;00mcurrent_dt\u001b[38;5;132;01m}\u001b[39;00m\u001b[33m and CFL=\u001b[39m\u001b[38;5;132;01m{\u001b[39;00mcurrent_cfl\u001b[38;5;132;01m}\u001b[39;00m\u001b[33m\"\u001b[39m\n\u001b[32m    413\u001b[39m         )\n\u001b[32m    415\u001b[39m \u001b[38;5;66;03m# Advance time and step counter\u001b[39;00m\n\u001b[32m    416\u001b[39m current_time += current_dt\n",
      "\u001b[31mRuntimeError\u001b[39m: Validation failed at step 0 with the following error(s):\nSolution is valid.\nwith current dt=0.0005 and CFL=0.01999736323579078"
     ]
    }
   ],
   "source": [
    "solver = JacobiSolver(\n",
    "    nx=nx, ny=ny, dx=dx, dy=dy, dt=dt, nu=nu,\n",
    "    integrator=SemiImplicitIntegrator(),\n",
    "    discrete_navier_stokes=FiniteDifferenceDiscretizer(),\n",
    "    fixed_dt=False\n",
    ")\n",
    "time, cfl_values, error = solver.integrate(\n",
    "    num_steps=10000,\n",
    "    end_time=None,\n",
    "    benchmark=\"Taylor-Green Vortex\",\n",
    "    cfl_based=False,\n",
    "    cfl_adapt=False,\n",
    ")\n",
    "vorticity = solver.compute_vorticity()\n",
    "print(error)"
   ]
  },
  {
   "cell_type": "code",
   "execution_count": null,
   "id": "cafd361a-49d3-4298-8307-b873f557b73b",
   "metadata": {},
   "outputs": [],
   "source": [
    "# plt.plot(time, error_values, label='Error in kinetic energy')\n",
    "# plt.xlabel('Time')\n",
    "# plt.ylabel('Error')\n",
    "# plt.legend()\n",
    "# plt.tight_layout()\n",
    "# plt.show()\n",
    "\n",
    "plt.plot(time, cfl_values)\n",
    "plt.xlabel('Time')\n",
    "plt.ylabel('CFL')\n",
    "plt.tight_layout()\n",
    "plt.show()"
   ]
  },
  {
   "cell_type": "code",
   "execution_count": null,
   "id": "120e5e98-acfa-467d-823a-9097d1578748",
   "metadata": {},
   "outputs": [],
   "source": [
    "cf = plt.contourf(solver.X, solver.Y, vorticity)\n",
    "cb = plt.colorbar(cf)\n",
    "cb.set_label('Vorticity (s⁻¹)')\n",
    "plt.xlabel('x')\n",
    "plt.ylabel('y')\n",
    "plt.tight_layout()\n",
    "plt.gca().set_aspect('equal', adjustable='box')\n",
    "plt.show()\n",
    "\n",
    "cf = plt.contourf(solver.X, solver.Y, solver.p)\n",
    "cb = plt.colorbar(cf)\n",
    "cb.set_label('Pressure (Pa)')\n",
    "plt.xlabel('x')\n",
    "plt.ylabel('y')\n",
    "plt.tight_layout()\n",
    "plt.gca().set_aspect('equal', adjustable='box')\n",
    "plt.show()"
   ]
  },
  {
   "cell_type": "markdown",
   "id": "42739355-41f1-43e2-a178-b02ced46d006",
   "metadata": {},
   "source": [
    "# Results for Jacobi Solver\n",
    "\n",
    "At this point (and for other solver as well) use a cluster, run all simulations, collect results including final error and total compute time and some visuals like vorticity. Save everything in correct format (mostly csv, unless all in JSON) in the folder `./output/`. For images use `./img/`, and save in vector format (pdf, eps or svg). See how the time steps and viscosity affect the results. Don't run all possible configurations."
   ]
  },
  {
   "cell_type": "code",
   "execution_count": null,
   "id": "06432aa0-7e6a-495d-beda-3b86c7b0f3c5",
   "metadata": {},
   "outputs": [],
   "source": [
    "# for discretizer, predictor in combinations:\n",
    "#     rhs_name = discretizer.__class__.__name__\n",
    "#     lhs_name = predictor.__class__.__name__\n",
    "    \n",
    "#     print(f\"\\nTesting combination:\")\n",
    "#     print(f\" - Discretizer: {rhs_name}\")\n",
    "#     print(f\" - Predictor: {lhs_name}\")\n",
    "\n",
    "#     # Run for both benchmarks\n",
    "#     try:\n",
    "#         # Run actual simulation\n",
    "#         # ...\n",
    "        \n",
    "#         # Print or store the result\n",
    "#         # results[(rhs_name, lhs_name)] = result\n",
    "        \n",
    "#     except Exception as e:\n",
    "#         print(f\"Error occurred: {e}\")"
   ]
  },
  {
   "cell_type": "markdown",
   "id": "9ef6b878-ed68-486f-ab77-7a06e766b6d5",
   "metadata": {},
   "source": [
    "# Results for Gauss-Seidel Solver"
   ]
  },
  {
   "cell_type": "code",
   "execution_count": null,
   "id": "a92d942b-661e-46ce-a68b-e4cbd861768a",
   "metadata": {},
   "outputs": [],
   "source": []
  }
 ],
 "metadata": {
  "kernelspec": {
   "display_name": "Python 3 (ipykernel)",
   "language": "python",
   "name": "python3"
  },
  "language_info": {
   "codemirror_mode": {
    "name": "ipython",
    "version": 3
   },
   "file_extension": ".py",
   "mimetype": "text/x-python",
   "name": "python",
   "nbconvert_exporter": "python",
   "pygments_lexer": "ipython3",
   "version": "3.12.9"
  }
 },
 "nbformat": 4,
 "nbformat_minor": 5
}
