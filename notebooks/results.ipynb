{
 "cells": [
  {
   "cell_type": "code",
   "execution_count": 1,
   "id": "3a169ed0-0acf-4c62-9b1e-42d860d39bc6",
   "metadata": {},
   "outputs": [],
   "source": [
    "import matplotlib.pyplot as plt\n",
    "import matplotlib\n",
    "\n",
    "matplotlib.rcParams.update({'font.size': 18})\n",
    "matplotlib.rcParams['lines.linewidth'] = 0.5\n",
    "matplotlib.rcParams['lines.markeredgewidth'] = 0.5\n",
    "matplotlib.rcParams['lines.markersize'] = 8 "
   ]
  },
  {
   "cell_type": "code",
   "execution_count": 2,
   "id": "3decf669-3d77-451e-94bb-f53a99084e99",
   "metadata": {},
   "outputs": [],
   "source": [
    "import numpy as np\n",
    "from numba import njit, prange, set_num_threads\n",
    "from itertools import product\n",
    "\n",
    "set_num_threads(15)"
   ]
  },
  {
   "cell_type": "code",
   "execution_count": 3,
   "id": "66ea4126-5788-42d1-aa6b-3e86a7639ef1",
   "metadata": {},
   "outputs": [],
   "source": [
    "from ns2d import (\n",
    "    EulerIntegrator,\n",
    "    FiniteDifferenceDiscretizer,\n",
    "    FiniteDifferenceUpwindDiscretizer,\n",
    "    FiniteVolumeDiscretizer,\n",
    "    GaussSeidelSolver,\n",
    "    JacobiSolver,\n",
    "    PredictorCorrectorIntegrator,\n",
    "    RK4Integrator\n",
    ")"
   ]
  },
  {
   "cell_type": "code",
   "execution_count": 4,
   "id": "28e41122-0ad3-4820-b2c9-10662416df0f",
   "metadata": {},
   "outputs": [],
   "source": [
    "nx, ny = 41, 41\n",
    "dx, dy = 2.0 / (nx - 1), 2.0 / (ny - 1)\n",
    "dt = 0.001\n",
    "nu = 1e-2\n",
    "num_steps = 500\n",
    "\n",
    "x = np.linspace(0, 2, nx)\n",
    "y = np.linspace(0, 2, ny)\n",
    "X, Y = np.meshgrid(x, y)"
   ]
  },
  {
   "cell_type": "code",
   "execution_count": 5,
   "id": "1dae02e8-3700-4a67-b612-df4bb098f27f",
   "metadata": {},
   "outputs": [],
   "source": [
    "rhs_discretizers = [\n",
    "    FiniteDifferenceDiscretizer(),\n",
    "    FiniteDifferenceUpwindDiscretizer(),\n",
    "    FiniteVolumeDiscretizer()\n",
    "]\n",
    "predictors = [\n",
    "    EulerIntegrator(),\n",
    "    PredictorCorrectorIntegrator,\n",
    "    RK4Integrator\n",
    "]\n",
    "benchmarks = {\n",
    "    \"Taylor-Green Vortex\": 1,\n",
    "    \"Lid-Driven Cavity\": 2\n",
    "}\n",
    "all_combinations = list(product(rhs_discretizers, predictors))"
   ]
  },
  {
   "cell_type": "code",
   "execution_count": null,
   "id": "cc466ce7-b423-462d-9e6a-1ff4ade8d1ed",
   "metadata": {},
   "outputs": [],
   "source": [
    "solver = JacobiSolver(\n",
    "    nx = nx, ny=ny, dx=dx, dy=dy, dt=dt, nu=nu,\n",
    "    integrator=EulerIntegrator(),\n",
    "    discrete_navier_stokes=FiniteDifferenceDiscretizer(),\n",
    "    bc_case=benchmarks[\"Taylor-Green Vortex\"],\n",
    "    fixed_dt=False\n",
    ")\n",
    "errors = solver.integrate(\n",
    "    num_steps=10000,\n",
    "    end_time=None,\n",
    "    benchmark=\"Taylor-Green Vortex\"\n",
    ")\n",
    "vorticity = solver.compute_vorticity()"
   ]
  },
  {
   "cell_type": "code",
   "execution_count": null,
   "id": "cafd361a-49d3-4298-8307-b873f557b73b",
   "metadata": {},
   "outputs": [],
   "source": [
    "time = [item[0] for item in errors]\n",
    "error_values = [item[1] for item in errors]\n",
    "plt.plot(time, error_values, label='Error in kinetic energy')\n",
    "plt.xlabel('Time')\n",
    "plt.ylabel('Error')\n",
    "plt.legend()\n",
    "plt.tight_layout()\n",
    "plt.show()"
   ]
  },
  {
   "cell_type": "code",
   "execution_count": null,
   "id": "120e5e98-acfa-467d-823a-9097d1578748",
   "metadata": {},
   "outputs": [],
   "source": [
    "cf = plt.contourf(X, Y, vorticity)\n",
    "cb = plt.colorbar(cf)\n",
    "cb.set_label('Vorticity (s⁻¹)')\n",
    "plt.xlabel('x')\n",
    "plt.ylabel('y')\n",
    "plt.tight_layout()\n",
    "plt.show()\n",
    "\n",
    "cf = plt.contourf(X, Y, solver.p)\n",
    "cb = plt.colorbar(cf)\n",
    "cb.set_label('Pressure (Pa)')\n",
    "plt.xlabel('x')\n",
    "plt.ylabel('y')\n",
    "plt.tight_layout()\n",
    "plt.show()"
   ]
  },
  {
   "cell_type": "markdown",
   "id": "42739355-41f1-43e2-a178-b02ced46d006",
   "metadata": {},
   "source": [
    "# Results for Jacobi Solver"
   ]
  },
  {
   "cell_type": "code",
   "execution_count": null,
   "id": "06432aa0-7e6a-495d-beda-3b86c7b0f3c5",
   "metadata": {},
   "outputs": [],
   "source": [
    "# for discretizer, predictor in combinations:\n",
    "#     rhs_name = discretizer.__class__.__name__\n",
    "#     lhs_name = predictor.__class__.__name__\n",
    "    \n",
    "#     print(f\"\\nTesting combination:\")\n",
    "#     print(f\" - Discretizer: {rhs_name}\")\n",
    "#     print(f\" - Predictor: {lhs_name}\")\n",
    "\n",
    "#     # Run for both benchmarks\n",
    "#     try:\n",
    "#         # Run actual simulation\n",
    "#         # ...\n",
    "        \n",
    "#         # Print or store the result\n",
    "#         # results[(rhs_name, lhs_name)] = result\n",
    "        \n",
    "#     except Exception as e:\n",
    "#         print(f\"Error occurred: {e}\")"
   ]
  },
  {
   "cell_type": "code",
   "execution_count": 6,
   "id": "cc48e8db-29c1-4e1b-8425-fe8c1e6f78ef",
   "metadata": {},
   "outputs": [],
   "source": [
    "# plt.figure(figsize=(11, 7))\n",
    "# plt.contourf(X, Y, solver.p, alpha=0.5)\n",
    "# plt.colorbar(label='Pressure')\n",
    "# plt.contour(X, Y, solver.p, colors='black', linestyles='solid')\n",
    "# plt.quiver(X[::2, ::2], Y[::2, ::2], solver.u[::2, ::2], solver.v[::2, ::2], color='r')\n",
    "# plt.xlabel('X')\n",
    "# plt.ylabel('Y')\n",
    "# plt.tight_layout()\n",
    "# plt.show()"
   ]
  },
  {
   "cell_type": "markdown",
   "id": "9ef6b878-ed68-486f-ab77-7a06e766b6d5",
   "metadata": {},
   "source": [
    "# Results for Gauss-Seidel Solver"
   ]
  },
  {
   "cell_type": "code",
   "execution_count": null,
   "id": "a92d942b-661e-46ce-a68b-e4cbd861768a",
   "metadata": {},
   "outputs": [],
   "source": []
  }
 ],
 "metadata": {
  "kernelspec": {
   "display_name": "Python 3 (ipykernel)",
   "language": "python",
   "name": "python3"
  },
  "language_info": {
   "codemirror_mode": {
    "name": "ipython",
    "version": 3
   },
   "file_extension": ".py",
   "mimetype": "text/x-python",
   "name": "python",
   "nbconvert_exporter": "python",
   "pygments_lexer": "ipython3",
   "version": "3.12.9"
  }
 },
 "nbformat": 4,
 "nbformat_minor": 5
}
