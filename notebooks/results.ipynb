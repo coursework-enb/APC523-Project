{
 "cells": [
  {
   "cell_type": "code",
   "execution_count": 1,
   "id": "3a169ed0-0acf-4c62-9b1e-42d860d39bc6",
   "metadata": {},
   "outputs": [],
   "source": [
    "import matplotlib.pyplot as plt\n",
    "import matplotlib\n",
    "\n",
    "matplotlib.rcParams.update({'font.size': 18})\n",
    "matplotlib.rcParams['lines.linewidth'] = 0.5\n",
    "matplotlib.rcParams['lines.markeredgewidth'] = 0.5\n",
    "matplotlib.rcParams['lines.markersize'] = 8 "
   ]
  },
  {
   "cell_type": "code",
   "execution_count": 2,
   "id": "3decf669-3d77-451e-94bb-f53a99084e99",
   "metadata": {},
   "outputs": [],
   "source": [
    "import numpy as np\n",
    "from numba import njit, prange, set_num_threads\n",
    "from itertools import product\n",
    "\n",
    "set_num_threads(15)"
   ]
  },
  {
   "cell_type": "code",
   "execution_count": 3,
   "id": "66ea4126-5788-42d1-aa6b-3e86a7639ef1",
   "metadata": {},
   "outputs": [],
   "source": [
    "from ns2d import (\n",
    "    EulerIntegrator,\n",
    "    FiniteDifferenceDiscretizer,\n",
    "    FiniteDifferenceUpwindDiscretizer,\n",
    "    FiniteVolumeDiscretizer,\n",
    "    GaussSeidelSolver,\n",
    "    JacobiSolver,\n",
    "    PredictorCorrectorIntegrator,\n",
    "    RK4Integrator\n",
    ")"
   ]
  },
  {
   "cell_type": "code",
   "execution_count": 4,
   "id": "28e41122-0ad3-4820-b2c9-10662416df0f",
   "metadata": {},
   "outputs": [],
   "source": [
    "nx, ny = 41, 41\n",
    "dx, dy = 2.0 / (nx - 1), 2.0 / (ny - 1)\n",
    "dt = 0.001\n",
    "nu = 1e-2\n",
    "num_steps = 500\n",
    "\n",
    "x = np.linspace(0, 2, nx)\n",
    "y = np.linspace(0, 2, ny)\n",
    "X, Y = np.meshgrid(x, y)"
   ]
  },
  {
   "cell_type": "code",
   "execution_count": 5,
   "id": "1dae02e8-3700-4a67-b612-df4bb098f27f",
   "metadata": {},
   "outputs": [],
   "source": [
    "rhs_discretizers = [\n",
    "    FiniteDifferenceDiscretizer(),\n",
    "    FiniteDifferenceUpwindDiscretizer(),\n",
    "    FiniteVolumeDiscretizer()\n",
    "]\n",
    "predictors = [\n",
    "    EulerIntegrator(),\n",
    "    PredictorCorrectorIntegrator,\n",
    "    RK4Integrator\n",
    "]\n",
    "benchmarks = {\n",
    "    \"Taylor-Green Vortex\": 1,\n",
    "    \"Lid-Driven Cavity\": 2\n",
    "}\n",
    "all_combinations = list(product(rhs_discretizers, predictors))"
   ]
  },
  {
   "cell_type": "code",
   "execution_count": 6,
   "id": "cc466ce7-b423-462d-9e6a-1ff4ade8d1ed",
   "metadata": {},
   "outputs": [
    {
     "ename": "KeyboardInterrupt",
     "evalue": "",
     "output_type": "error",
     "traceback": [
      "\u001b[31m---------------------------------------------------------------------------\u001b[39m",
      "\u001b[31mKeyboardInterrupt\u001b[39m                         Traceback (most recent call last)",
      "\u001b[36mCell\u001b[39m\u001b[36m \u001b[39m\u001b[32mIn[6]\u001b[39m\u001b[32m, line 8\u001b[39m\n\u001b[32m      1\u001b[39m solver = JacobiSolver(\n\u001b[32m      2\u001b[39m     nx = nx, ny=ny, dx=dx, dy=dy, dt=dt, nu=nu,\n\u001b[32m      3\u001b[39m     integrator=EulerIntegrator(),\n\u001b[32m   (...)\u001b[39m\u001b[32m      6\u001b[39m     fixed_dt=\u001b[38;5;28;01mFalse\u001b[39;00m\n\u001b[32m      7\u001b[39m )\n\u001b[32m----> \u001b[39m\u001b[32m8\u001b[39m errors = \u001b[43msolver\u001b[49m\u001b[43m.\u001b[49m\u001b[43mintegrate\u001b[49m\u001b[43m(\u001b[49m\n\u001b[32m      9\u001b[39m \u001b[43m    \u001b[49m\u001b[43mnum_steps\u001b[49m\u001b[43m=\u001b[49m\u001b[32;43m1e5\u001b[39;49m\u001b[43m,\u001b[49m\n\u001b[32m     10\u001b[39m \u001b[43m    \u001b[49m\u001b[43mend_time\u001b[49m\u001b[43m=\u001b[49m\u001b[38;5;28;43;01mNone\u001b[39;49;00m\u001b[43m,\u001b[49m\n\u001b[32m     11\u001b[39m \u001b[43m    \u001b[49m\u001b[43mbenchmark\u001b[49m\u001b[43m=\u001b[49m\u001b[33;43m\"\u001b[39;49m\u001b[33;43mTaylor-Green Vortex\u001b[39;49m\u001b[33;43m\"\u001b[39;49m\n\u001b[32m     12\u001b[39m \u001b[43m)\u001b[49m\n\u001b[32m     13\u001b[39m vorticity = solver.compute_vorticity()\n",
      "\u001b[36mFile \u001b[39m\u001b[32m~/ghorg/coursework-enb/APC523-Project/src/ns2d/core.py:282\u001b[39m, in \u001b[36mNavierStokesSolver2D.integrate\u001b[39m\u001b[34m(self, num_steps, end_time, num_step_vorticity, benchmark)\u001b[39m\n\u001b[32m    279\u001b[39m \u001b[38;5;28mself\u001b[39m.update_velocity()\n\u001b[32m    281\u001b[39m \u001b[38;5;28;01mif\u001b[39;00m benchmark == \u001b[33m\"\u001b[39m\u001b[33mTaylor-Green Vortex\u001b[39m\u001b[33m\"\u001b[39m:\n\u001b[32m--> \u001b[39m\u001b[32m282\u001b[39m     error_tgv: \u001b[38;5;28mfloat\u001b[39m = \u001b[38;5;28;43mself\u001b[39;49m\u001b[43m.\u001b[49m\u001b[43mvalidate\u001b[49m\u001b[43m(\u001b[49m\u001b[43mbenchmark\u001b[49m\u001b[43m,\u001b[49m\u001b[43m \u001b[49m\u001b[43mcurrent_time\u001b[49m\u001b[43m)\u001b[49m\n\u001b[32m    283\u001b[39m     errors.append((current_time, error_tgv))\n\u001b[32m    285\u001b[39m \u001b[38;5;66;03m# Advance time and step counter\u001b[39;00m\n",
      "\u001b[36mFile \u001b[39m\u001b[32m~/ghorg/coursework-enb/APC523-Project/src/ns2d/core.py:204\u001b[39m, in \u001b[36mNavierStokesSolver2D.validate\u001b[39m\u001b[34m(self, benchmark, current_time, verbose)\u001b[39m\n\u001b[32m    189\u001b[39m \u001b[38;5;28;01mdef\u001b[39;00m\u001b[38;5;250m \u001b[39m\u001b[34mvalidate\u001b[39m(\u001b[38;5;28mself\u001b[39m, benchmark: \u001b[38;5;28mstr\u001b[39m, current_time: \u001b[38;5;28mfloat\u001b[39m, verbose: \u001b[38;5;28mbool\u001b[39m = \u001b[38;5;28;01mFalse\u001b[39;00m) -> \u001b[38;5;28mfloat\u001b[39m:\n\u001b[32m    190\u001b[39m \u001b[38;5;250m    \u001b[39m\u001b[33;03m\"\"\"\u001b[39;00m\n\u001b[32m    191\u001b[39m \u001b[33;03m    This method compares the solver's output (e.g., kinetic energy for Taylor-Green Vortex or minimum stream function for Lid-Driven Cavity) against reference or analytical solutions for the specified benchmark problem.\u001b[39;00m\n\u001b[32m    192\u001b[39m \n\u001b[32m    193\u001b[39m \u001b[33;03m    :param benchmark: The benchmark problem to validate against\u001b[39;00m\n\u001b[32m    194\u001b[39m \u001b[33;03m    \"\"\"\u001b[39;00m\n\u001b[32m    195\u001b[39m     error: \u001b[38;5;28mfloat\u001b[39m = validate_against_benchmark(\n\u001b[32m    196\u001b[39m         benchmark,\n\u001b[32m    197\u001b[39m         \u001b[38;5;28mself\u001b[39m.dx,\n\u001b[32m    198\u001b[39m         \u001b[38;5;28mself\u001b[39m.dy,\n\u001b[32m    199\u001b[39m         \u001b[38;5;28mself\u001b[39m.nx,\n\u001b[32m    200\u001b[39m         \u001b[38;5;28mself\u001b[39m.ny,\n\u001b[32m    201\u001b[39m         \u001b[38;5;28mself\u001b[39m.nu,\n\u001b[32m    202\u001b[39m         current_time,\n\u001b[32m    203\u001b[39m         \u001b[38;5;28mself\u001b[39m.compute_kinetic_energy(),\n\u001b[32m--> \u001b[39m\u001b[32m204\u001b[39m         \u001b[38;5;28;43mself\u001b[39;49m\u001b[43m.\u001b[49m\u001b[43msolve_stream_function\u001b[49m\u001b[43m(\u001b[49m\u001b[43m)\u001b[49m,\n\u001b[32m    205\u001b[39m         verbose,\n\u001b[32m    206\u001b[39m     )\n\u001b[32m    207\u001b[39m     \u001b[38;5;66;03m# TODO: Make it more efficient by not computing kinetic energy and stream when not needed\u001b[39;00m\n\u001b[32m    208\u001b[39m     \u001b[38;5;66;03m# Optional: Add visual for the error at each cell when Taylor-Green Vortex\u001b[39;00m\n\u001b[32m    209\u001b[39m     \u001b[38;5;28;01mreturn\u001b[39;00m error\n",
      "\u001b[36mFile \u001b[39m\u001b[32m~/ghorg/coursework-enb/APC523-Project/src/ns2d/core.py:169\u001b[39m, in \u001b[36mNavierStokesSolver2D.solve_stream_function\u001b[39m\u001b[34m(self)\u001b[39m\n\u001b[32m    167\u001b[39m temp_p = \u001b[38;5;28mself\u001b[39m.p.copy()\n\u001b[32m    168\u001b[39m \u001b[38;5;28mself\u001b[39m.p = vorticity\n\u001b[32m--> \u001b[39m\u001b[32m169\u001b[39m \u001b[38;5;28;43mself\u001b[39;49m\u001b[43m.\u001b[49m\u001b[43msolve_poisson\u001b[49m\u001b[43m(\u001b[49m\u001b[43m)\u001b[49m\n\u001b[32m    170\u001b[39m stream_func = \u001b[38;5;28mself\u001b[39m.p.copy()\n\u001b[32m    172\u001b[39m \u001b[38;5;66;03m# Restore original pressure field\u001b[39;00m\n\u001b[32m    173\u001b[39m \u001b[38;5;66;03m# TODO: revise solve_poisson such that we can input/output the pressure without mutation (safer)\u001b[39;00m\n",
      "\u001b[36mFile \u001b[39m\u001b[32m~/ghorg/coursework-enb/APC523-Project/src/ns2d/corrector_step.py:134\u001b[39m, in \u001b[36mJacobiSolver.solve_poisson\u001b[39m\u001b[34m(self)\u001b[39m\n\u001b[32m    131\u001b[39m \u001b[38;5;66;03m# Note: For case 2, we keep one-sided difference approximation\u001b[39;00m\n\u001b[32m    133\u001b[39m \u001b[38;5;28mself\u001b[39m.p = pressure_poisson_multigrid(rhs, \u001b[38;5;28mself\u001b[39m.dx, \u001b[38;5;28mself\u001b[39m.dy, smoother=\u001b[33m\"\u001b[39m\u001b[33mjacobi\u001b[39m\u001b[33m\"\u001b[39m)\n\u001b[32m--> \u001b[39m\u001b[32m134\u001b[39m \u001b[38;5;28;43mself\u001b[39;49m\u001b[43m.\u001b[49m\u001b[43m_apply_bc\u001b[49m\u001b[43m(\u001b[49m\u001b[43muv\u001b[49m\u001b[43m=\u001b[49m\u001b[38;5;28;43;01mFalse\u001b[39;49;00m\u001b[43m)\u001b[49m\n",
      "\u001b[36mFile \u001b[39m\u001b[32m~/ghorg/coursework-enb/APC523-Project/src/ns2d/core.py:90\u001b[39m, in \u001b[36mNavierStokesSolver2D._apply_bc\u001b[39m\u001b[34m(self, uv, p)\u001b[39m\n\u001b[32m     81\u001b[39m     poisson_solver = \u001b[33m\"\u001b[39m\u001b[33mabstract\u001b[39m\u001b[33m\"\u001b[39m \u001b[38;5;28;01mif\u001b[39;00m is_abstract \u001b[38;5;28;01melse\u001b[39;00m \u001b[38;5;28mself\u001b[39m.\u001b[34m__class__\u001b[39m.\u001b[34m__name__\u001b[39m\n\u001b[32m     82\u001b[39m     \u001b[38;5;28;01mreturn\u001b[39;00m (\n\u001b[32m     83\u001b[39m         \u001b[33mf\u001b[39m\u001b[33m\"\u001b[39m\u001b[33mNavierStokesSolver2D(adaptive=\u001b[39m\u001b[38;5;132;01m{\u001b[39;00m\u001b[38;5;129;01mnot\u001b[39;00m\u001b[38;5;250m \u001b[39m\u001b[38;5;28mself\u001b[39m.fixed_dt\u001b[38;5;132;01m}\u001b[39;00m\u001b[33m, \u001b[39m\u001b[33m\"\u001b[39m\n\u001b[32m     84\u001b[39m         \u001b[33mf\u001b[39m\u001b[33m\"\u001b[39m\u001b[33mgrid=(\u001b[39m\u001b[38;5;132;01m{\u001b[39;00m\u001b[38;5;28mself\u001b[39m.nx\u001b[38;5;132;01m}\u001b[39;00m\u001b[33mx\u001b[39m\u001b[38;5;132;01m{\u001b[39;00m\u001b[38;5;28mself\u001b[39m.ny\u001b[38;5;132;01m}\u001b[39;00m\u001b[33m), \u001b[39m\u001b[33m\"\u001b[39m\n\u001b[32m   (...)\u001b[39m\u001b[32m     87\u001b[39m         \u001b[33mf\u001b[39m\u001b[33m\"\u001b[39m\u001b[33mpoisson=\u001b[39m\u001b[38;5;132;01m{\u001b[39;00mpoisson_solver\u001b[38;5;132;01m}\u001b[39;00m\u001b[33m)\u001b[39m\u001b[33m\"\u001b[39m\n\u001b[32m     88\u001b[39m     )\n\u001b[32m---> \u001b[39m\u001b[32m90\u001b[39m \u001b[38;5;28;01mdef\u001b[39;00m\u001b[38;5;250m \u001b[39m\u001b[34m_apply_bc\u001b[39m(\u001b[38;5;28mself\u001b[39m, uv: \u001b[38;5;28mbool\u001b[39m = \u001b[38;5;28;01mTrue\u001b[39;00m, p: \u001b[38;5;28mbool\u001b[39m = \u001b[38;5;28;01mTrue\u001b[39;00m) -> \u001b[38;5;28;01mNone\u001b[39;00m:\n\u001b[32m     91\u001b[39m     \u001b[38;5;28;01mif\u001b[39;00m uv:\n\u001b[32m     92\u001b[39m         \u001b[38;5;28mself\u001b[39m.u, \u001b[38;5;28mself\u001b[39m.v = apply_velocity_bc(\u001b[38;5;28mself\u001b[39m.u, \u001b[38;5;28mself\u001b[39m.v, \u001b[38;5;28mself\u001b[39m.bc_case)\n",
      "\u001b[31mKeyboardInterrupt\u001b[39m: "
     ]
    }
   ],
   "source": [
    "solver = JacobiSolver(\n",
    "    nx = nx, ny=ny, dx=dx, dy=dy, dt=dt, nu=nu,\n",
    "    integrator=EulerIntegrator(),\n",
    "    discrete_navier_stokes=FiniteDifferenceDiscretizer(),\n",
    "    bc_case=benchmarks[\"Taylor-Green Vortex\"],\n",
    "    fixed_dt=False\n",
    ")\n",
    "errors = solver.integrate(\n",
    "    num_steps=1e5,\n",
    "    end_time=None,\n",
    "    benchmark=\"Taylor-Green Vortex\"\n",
    ")\n",
    "vorticity = solver.compute_vorticity()"
   ]
  },
  {
   "cell_type": "code",
   "execution_count": null,
   "id": "cafd361a-49d3-4298-8307-b873f557b73b",
   "metadata": {},
   "outputs": [],
   "source": [
    "time = [item[0] for item in errors]\n",
    "error_values = [item[1] for item in errors]\n",
    "plt.plot(time, error_values, label='Error in kinetic energy')\n",
    "plt.xlabel('Time')\n",
    "plt.ylabel('Error')\n",
    "plt.legend()\n",
    "plt.tight_layout()\n",
    "plt.show()"
   ]
  },
  {
   "cell_type": "code",
   "execution_count": null,
   "id": "120e5e98-acfa-467d-823a-9097d1578748",
   "metadata": {},
   "outputs": [],
   "source": [
    "cf = plt.contourf(X, Y, vorticity)\n",
    "cb = plt.colorbar(cf)\n",
    "cb.set_label('Vorticity (s⁻¹)')\n",
    "plt.xlabel('x')\n",
    "plt.ylabel('y')\n",
    "plt.tight_layout()\n",
    "plt.show()\n",
    "\n",
    "cf = plt.contourf(X, Y, solver.p)\n",
    "cb = plt.colorbar(cf)\n",
    "cb.set_label('Pressure (Pa)')\n",
    "plt.xlabel('x')\n",
    "plt.ylabel('y')\n",
    "plt.tight_layout()\n",
    "plt.show()"
   ]
  },
  {
   "cell_type": "markdown",
   "id": "42739355-41f1-43e2-a178-b02ced46d006",
   "metadata": {},
   "source": [
    "# Results for Jacobi Solver"
   ]
  },
  {
   "cell_type": "code",
   "execution_count": null,
   "id": "06432aa0-7e6a-495d-beda-3b86c7b0f3c5",
   "metadata": {},
   "outputs": [],
   "source": [
    "# for discretizer, predictor in combinations:\n",
    "#     rhs_name = discretizer.__class__.__name__\n",
    "#     lhs_name = predictor.__class__.__name__\n",
    "    \n",
    "#     print(f\"\\nTesting combination:\")\n",
    "#     print(f\" - Discretizer: {rhs_name}\")\n",
    "#     print(f\" - Predictor: {lhs_name}\")\n",
    "\n",
    "#     # Run for both benchmarks\n",
    "#     try:\n",
    "#         # Run actual simulation\n",
    "#         # ...\n",
    "        \n",
    "#         # Print or store the result\n",
    "#         # results[(rhs_name, lhs_name)] = result\n",
    "        \n",
    "#     except Exception as e:\n",
    "#         print(f\"Error occurred: {e}\")"
   ]
  },
  {
   "cell_type": "code",
   "execution_count": 6,
   "id": "cc48e8db-29c1-4e1b-8425-fe8c1e6f78ef",
   "metadata": {},
   "outputs": [],
   "source": [
    "# plt.figure(figsize=(11, 7))\n",
    "# plt.contourf(X, Y, solver.p, alpha=0.5)\n",
    "# plt.colorbar(label='Pressure')\n",
    "# plt.contour(X, Y, solver.p, colors='black', linestyles='solid')\n",
    "# plt.quiver(X[::2, ::2], Y[::2, ::2], solver.u[::2, ::2], solver.v[::2, ::2], color='r')\n",
    "# plt.xlabel('X')\n",
    "# plt.ylabel('Y')\n",
    "# plt.tight_layout()\n",
    "# plt.show()"
   ]
  },
  {
   "cell_type": "markdown",
   "id": "9ef6b878-ed68-486f-ab77-7a06e766b6d5",
   "metadata": {},
   "source": [
    "# Results for Gauss-Seidel Solver"
   ]
  },
  {
   "cell_type": "code",
   "execution_count": null,
   "id": "a92d942b-661e-46ce-a68b-e4cbd861768a",
   "metadata": {},
   "outputs": [],
   "source": []
  }
 ],
 "metadata": {
  "kernelspec": {
   "display_name": "Python 3 (ipykernel)",
   "language": "python",
   "name": "python3"
  },
  "language_info": {
   "codemirror_mode": {
    "name": "ipython",
    "version": 3
   },
   "file_extension": ".py",
   "mimetype": "text/x-python",
   "name": "python",
   "nbconvert_exporter": "python",
   "pygments_lexer": "ipython3",
   "version": "3.12.9"
  }
 },
 "nbformat": 4,
 "nbformat_minor": 5
}
